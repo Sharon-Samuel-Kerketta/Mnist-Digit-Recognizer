{
 "cells": [
  {
   "cell_type": "markdown",
   "metadata": {},
   "source": [
    "One of the first Datasets which every Data Scientist or Machine Learning enthusiast who is learning Image processing or Computer Vision trains over this dataset. \n",
    "\n",
    "This is a very simple and easy as well as robust kernel which you can learn and try it yourself. I did it many ways but for keeping things simple and easy to understand, I compiled all of it into this basic looking kernel. So Happy learning and hope you like this kernel."
   ]
  },
  {
   "cell_type": "markdown",
   "metadata": {},
   "source": [
    "## Importing the Libraries"
   ]
  },
  {
   "cell_type": "code",
   "execution_count": 2,
   "metadata": {},
   "outputs": [],
   "source": [
    "import tensorflow as tf\n",
    "import numpy as np\n",
    "import pandas as pd\n",
    "import matplotlib.pyplot as plt\n",
    "import seaborn as sns\n",
    "sns.set_style('white')"
   ]
  },
  {
   "cell_type": "markdown",
   "metadata": {},
   "source": [
    "Check the Tensorflow version"
   ]
  },
  {
   "cell_type": "code",
   "execution_count": 3,
   "metadata": {},
   "outputs": [
    {
     "data": {
      "text/plain": [
       "'2.2.0'"
      ]
     },
     "execution_count": 3,
     "metadata": {},
     "output_type": "execute_result"
    }
   ],
   "source": [
    "tf.__version__"
   ]
  },
  {
   "cell_type": "code",
   "execution_count": 4,
   "metadata": {},
   "outputs": [
    {
     "data": {
      "text/plain": [
       "['.ipynb_checkpoints',\n",
       " 'mnist-Kaggle.ipynb',\n",
       " 'sample_submission.csv',\n",
       " 'Submission.csv',\n",
       " 'test.csv',\n",
       " 'train.csv',\n",
       " 'Untitled.ipynb']"
      ]
     },
     "execution_count": 4,
     "metadata": {},
     "output_type": "execute_result"
    }
   ],
   "source": [
    "import os\n",
    "os.listdir('./')"
   ]
  },
  {
   "cell_type": "markdown",
   "metadata": {},
   "source": [
    "## Import the Training and Test Dataset"
   ]
  },
  {
   "cell_type": "code",
   "execution_count": 5,
   "metadata": {},
   "outputs": [],
   "source": [
    "train = pd.read_csv('train.csv')\n",
    "test = pd.read_csv('test.csv')"
   ]
  },
  {
   "cell_type": "markdown",
   "metadata": {},
   "source": [
    "The Dataset has 42000 train images and 28000 test images. All these images are Grayscale. \n",
    "Grayscale images have values starting from 0 to  255 , the shades of gray. 0 being black and 255 being black."
   ]
  },
  {
   "cell_type": "markdown",
   "metadata": {},
   "source": [
    "Each row has 785 columns, where first is the Label and rest are pixel values\n",
    "\n",
    "In those 784 columns, each represent the pixel value for each image in each row. So there are basically images of 28*28 dimensions"
   ]
  },
  {
   "cell_type": "code",
   "execution_count": 6,
   "metadata": {},
   "outputs": [
    {
     "name": "stdout",
     "output_type": "stream",
     "text": [
      "label       0\n",
      "pixel0      0\n",
      "pixel1      0\n",
      "pixel2      0\n",
      "pixel3      0\n",
      "           ..\n",
      "pixel779    0\n",
      "pixel780    0\n",
      "pixel781    0\n",
      "pixel782    0\n",
      "pixel783    0\n",
      "Length: 785, dtype: int64\n",
      "pixel0      0\n",
      "pixel1      0\n",
      "pixel2      0\n",
      "pixel3      0\n",
      "pixel4      0\n",
      "           ..\n",
      "pixel779    0\n",
      "pixel780    0\n",
      "pixel781    0\n",
      "pixel782    0\n",
      "pixel783    0\n",
      "Length: 784, dtype: int64\n"
     ]
    }
   ],
   "source": [
    "print(train.isnull().sum())\n",
    "print(test.isnull().sum())"
   ]
  },
  {
   "cell_type": "markdown",
   "metadata": {},
   "source": [
    "No null values to handle"
   ]
  },
  {
   "cell_type": "code",
   "execution_count": 7,
   "metadata": {},
   "outputs": [],
   "source": [
    "## Extracting the Labels from the Image Pixels, where 0th column is the Label\n",
    "\n",
    "X_train = train.iloc[:,1:] \n",
    "y_train = train.iloc[:,0]"
   ]
  },
  {
   "cell_type": "code",
   "execution_count": 8,
   "metadata": {},
   "outputs": [
    {
     "data": {
      "text/plain": [
       "1    4684\n",
       "7    4401\n",
       "3    4351\n",
       "9    4188\n",
       "2    4177\n",
       "6    4137\n",
       "0    4132\n",
       "4    4072\n",
       "8    4063\n",
       "5    3795\n",
       "Name: label, dtype: int64"
      ]
     },
     "execution_count": 8,
     "metadata": {},
     "output_type": "execute_result"
    }
   ],
   "source": [
    "y_train.value_counts()"
   ]
  },
  {
   "cell_type": "code",
   "execution_count": 9,
   "metadata": {},
   "outputs": [
    {
     "data": {
      "text/plain": [
       "0"
      ]
     },
     "execution_count": 9,
     "metadata": {},
     "output_type": "execute_result"
    },
    {
     "data": {
      "image/png": "[encoded data removed]",
      "text/plain": [
       "<Figure size 432x288 with 1 Axes>"
      ]
     },
     "metadata": {},
     "output_type": "display_data"
    }
   ],
   "source": [
    "plt.figure()\n",
    "plt.imshow(np.array(X_train.iloc[1,:]).reshape(28,28))\n",
    "y_train[1]"
   ]
  },
  {
   "cell_type": "markdown",
   "metadata": {},
   "source": [
    "## Converting Images with dimension 28 * 28 "
   ]
  },
  {
   "cell_type": "code",
   "execution_count": 10,
   "metadata": {},
   "outputs": [],
   "source": [
    "X_train = np.array(X_train).reshape(-1,28,28,1)\n",
    "X_test = np.array(test).reshape(-1,28,28,1)"
   ]
  },
  {
   "cell_type": "markdown",
   "metadata": {},
   "source": [
    "While changing the Dimension, we use reshape(-1 , 28, 28, 1)\n",
    "\n",
    "-1 is for the number of different images.\n",
    "28 * 28 is the Image Dimension\n",
    "1 is for the channel. RGB Images have 3 channels whereas grayscale images have only 1 channel."
   ]
  },
  {
   "cell_type": "code",
   "execution_count": 11,
   "metadata": {},
   "outputs": [
    {
     "data": {
      "text/plain": [
       "(42000, 28, 28, 1)"
      ]
     },
     "execution_count": 11,
     "metadata": {},
     "output_type": "execute_result"
    }
   ],
   "source": [
    "X_train.shape"
   ]
  },
  {
   "cell_type": "code",
   "execution_count": 12,
   "metadata": {},
   "outputs": [
    {
     "data": {
      "text/plain": [
       "(28000, 28, 28, 1)"
      ]
     },
     "execution_count": 12,
     "metadata": {},
     "output_type": "execute_result"
    }
   ],
   "source": [
    "X_test.shape"
   ]
  },
  {
   "cell_type": "code",
   "execution_count": 13,
   "metadata": {},
   "outputs": [
    {
     "data": {
      "text/plain": [
       "1"
      ]
     },
     "execution_count": 13,
     "metadata": {},
     "output_type": "execute_result"
    },
    {
     "data": {
      "image/png": "[encoded data removed]",
      "text/plain": [
       "<Figure size 432x288 with 1 Axes>"
      ]
     },
     "metadata": {},
     "output_type": "display_data"
    }
   ],
   "source": [
    "plt.imshow(X_train[2,:,:,-1])\n",
    "y_train[2]"
   ]
  },
  {
   "cell_type": "markdown",
   "metadata": {},
   "source": [
    "## Normalization"
   ]
  },
  {
   "cell_type": "code",
   "execution_count": 14,
   "metadata": {},
   "outputs": [],
   "source": [
    "X_train = X_train.astype(float)/255.0\n",
    "X_test = (X_test).astype(float)/255.0"
   ]
  },
  {
   "cell_type": "markdown",
   "metadata": {},
   "source": [
    "It's very essential to Normalize the values before feeding it into the neural network as it speeds up the network and doesn't cause problem if the values of adjacent pixels fluctuate too much."
   ]
  },
  {
   "cell_type": "markdown",
   "metadata": {},
   "source": [
    "##  Encoding the Output classes"
   ]
  },
  {
   "cell_type": "code",
   "execution_count": 15,
   "metadata": {},
   "outputs": [],
   "source": [
    "from tensorflow.keras.utils import to_categorical"
   ]
  },
  {
   "cell_type": "code",
   "execution_count": 16,
   "metadata": {},
   "outputs": [],
   "source": [
    "y_train = to_categorical(y_train,num_classes=10)"
   ]
  },
  {
   "cell_type": "markdown",
   "metadata": {},
   "source": [
    "## Splitting the Validation Data"
   ]
  },
  {
   "cell_type": "code",
   "execution_count": 17,
   "metadata": {},
   "outputs": [],
   "source": [
    "from sklearn.model_selection import train_test_split\n",
    "\n",
    "X_train, X_val, y_train, y_val = train_test_split(X_train, y_train, test_size = 0.18)\n"
   ]
  },
  {
   "cell_type": "markdown",
   "metadata": {},
   "source": [
    "## Modeling"
   ]
  },
  {
   "cell_type": "code",
   "execution_count": 61,
   "metadata": {},
   "outputs": [],
   "source": [
    "from tensorflow.keras.models import Sequential\n",
    "from tensorflow.keras.layers import Conv2D\n",
    "from tensorflow.keras.layers import MaxPooling2D\n",
    "from tensorflow.keras.layers import Dropout\n",
    "from tensorflow.keras.layers import Flatten\n",
    "from tensorflow.keras.layers import Dense\n",
    "from tensorflow.keras.callbacks import EarlyStopping"
   ]
  },
  {
   "cell_type": "code",
   "execution_count": 148,
   "metadata": {},
   "outputs": [],
   "source": [
    "no_of_epochs = 30\n",
    "bs = 32\n",
    "input_shape = (28,28,1)\n",
    "model = Sequential()\n",
    "\n",
    "model.add(Conv2D(filters = 256, kernel_size = (3,3), input_shape = input_shape, activation = 'relu'))\n",
    "model.add(Conv2D(filters = 128, kernel_size = (3,3),  activation = 'relu'))\n",
    "model.add(MaxPooling2D(pool_size = (2,2), strides = (2,2)))\n",
    "model.add(Dropout(rate = 0.2))\n",
    "\n",
    "model.add(Conv2D(filters = 64, kernel_size = (3,3),  activation = 'relu'))\n",
    "model.add(Conv2D(filters = 256, kernel_size = (3,3),  activation = 'relu'))\n",
    "model.add(MaxPooling2D(pool_size = (2,2) , strides = (2,2)))\n",
    "model.add(Dropout(rate = 0.2))\n",
    "\n",
    "model.add(Conv2D(filters = 128, kernel_size = (3,3),  activation = 'relu'))\n",
    "model.add(MaxPooling2D(pool_size = (2,2) , strides = (2,2)))\n",
    "model.add(Dropout(rate = 0.2))\n",
    "\n",
    "model.add(Flatten())                                                          ## A flatten layer consisting image features\n",
    "\n",
    "model.add(Dense(256, activation = 'relu'))                                    ## Fully connected Layer\n",
    "model.add(Dropout(0.25))                                                       ## Avoid Overfitting       \n",
    "\n",
    "model.add(Dense(10, activation = 'softmax'))                                   ## Output layer"
   ]
  },
  {
   "cell_type": "markdown",
   "metadata": {},
   "source": [
    "We'll use input_shape same as the dimension of the Images in the Dataset."
   ]
  },
  {
   "cell_type": "code",
   "execution_count": 149,
   "metadata": {},
   "outputs": [],
   "source": [
    "from  tensorflow.keras.optimizers import Adam\n",
    "\n",
    "adam = Adam(learning_rate= 0.0001)"
   ]
  },
  {
   "cell_type": "code",
   "execution_count": 150,
   "metadata": {},
   "outputs": [],
   "source": [
    "model.compile(optimizer= adam, loss = 'categorical_crossentropy', metrics = ['accuracy'])"
   ]
  },
  {
   "cell_type": "code",
   "execution_count": 151,
   "metadata": {},
   "outputs": [
    {
     "name": "stdout",
     "output_type": "stream",
     "text": [
      "Epoch 1/30\n",
      "1116/1116 [==============================] - 103s 92ms/step - loss: 0.5189 - accuracy: 0.8283 - val_loss: 0.1173 - val_accuracy: 0.9611\n",
      "Epoch 2/30\n",
      "1116/1116 [==============================] - 99s 89ms/step - loss: 0.1462 - accuracy: 0.9543 - val_loss: 0.0647 - val_accuracy: 0.9811\n",
      "Epoch 3/30\n",
      "1116/1116 [==============================] - 99s 89ms/step - loss: 0.0990 - accuracy: 0.9699 - val_loss: 0.0554 - val_accuracy: 0.9819\n",
      "Epoch 4/30\n",
      "1116/1116 [==============================] - 99s 89ms/step - loss: 0.0740 - accuracy: 0.9776 - val_loss: 0.0493 - val_accuracy: 0.9849\n",
      "Epoch 5/30\n",
      "1116/1116 [==============================] - 99s 89ms/step - loss: 0.0595 - accuracy: 0.9825 - val_loss: 0.0404 - val_accuracy: 0.9875\n",
      "Epoch 6/30\n",
      "1116/1116 [==============================] - 99s 89ms/step - loss: 0.0503 - accuracy: 0.9841 - val_loss: 0.0339 - val_accuracy: 0.9895\n",
      "Epoch 7/30\n",
      "1116/1116 [==============================] - 99s 88ms/step - loss: 0.0402 - accuracy: 0.9878 - val_loss: 0.0317 - val_accuracy: 0.9908\n",
      "Epoch 8/30\n",
      "1116/1116 [==============================] - 98s 88ms/step - loss: 0.0364 - accuracy: 0.9882 - val_loss: 0.0303 - val_accuracy: 0.9902\n",
      "Epoch 9/30\n",
      "1116/1116 [==============================] - 98s 88ms/step - loss: 0.0325 - accuracy: 0.9896 - val_loss: 0.0335 - val_accuracy: 0.9897\n",
      "Epoch 10/30\n",
      "1116/1116 [==============================] - 98s 88ms/step - loss: 0.0283 - accuracy: 0.9908 - val_loss: 0.0302 - val_accuracy: 0.9914\n",
      "Epoch 11/30\n",
      "1116/1116 [==============================] - 98s 88ms/step - loss: 0.0245 - accuracy: 0.9922 - val_loss: 0.0280 - val_accuracy: 0.9910\n",
      "Epoch 12/30\n",
      "1116/1116 [==============================] - 98s 88ms/step - loss: 0.0220 - accuracy: 0.9931 - val_loss: 0.0285 - val_accuracy: 0.9916\n",
      "Epoch 13/30\n",
      "1116/1116 [==============================] - 98s 88ms/step - loss: 0.0200 - accuracy: 0.9931 - val_loss: 0.0343 - val_accuracy: 0.9894\n",
      "Epoch 14/30\n",
      "1116/1116 [==============================] - 98s 88ms/step - loss: 0.0184 - accuracy: 0.9940 - val_loss: 0.0286 - val_accuracy: 0.9913\n",
      "Epoch 15/30\n",
      "1116/1116 [==============================] - 98s 88ms/step - loss: 0.0155 - accuracy: 0.9950 - val_loss: 0.0359 - val_accuracy: 0.9894\n"
     ]
    }
   ],
   "source": [
    "history = model.fit(x= X_train, y= y_train, validation_data=(X_val,y_val), epochs=no_of_epochs, use_multiprocessing= True,\n",
    "         callbacks = [EarlyStopping(patience = 4)],\n",
    "         batch_size= bs, verbose=1)"
   ]
  },
  {
   "cell_type": "markdown",
   "metadata": {},
   "source": [
    "## Vizualizations"
   ]
  },
  {
   "cell_type": "code",
   "execution_count": 152,
   "metadata": {},
   "outputs": [
    {
     "data": {
      "text/plain": [
       "<matplotlib.legend.Legend at 0x1c832bdbd88>"
      ]
     },
     "execution_count": 152,
     "metadata": {},
     "output_type": "execute_result"
    },
    {
     "data": {
      "image/png": "[encoded data removed]",
      "text/plain": [
       "<Figure size 720x432 with 1 Axes>"
      ]
     },
     "metadata": {},
     "output_type": "display_data"
    }
   ],
   "source": [
    "plt.figure(figsize = (10,6))\n",
    "plt.plot(history.history['accuracy'] , label = 'Accuracy')\n",
    "plt.plot(history.history['val_accuracy'], label = 'Validation Accuracy')\n",
    "plt.title('Accuracy vs Validation Accuracy')\n",
    "plt.legend()"
   ]
  },
  {
   "cell_type": "code",
   "execution_count": 153,
   "metadata": {},
   "outputs": [
    {
     "data": {
      "text/plain": [
       "<matplotlib.legend.Legend at 0x1c83112e6c8>"
      ]
     },
     "execution_count": 153,
     "metadata": {},
     "output_type": "execute_result"
    },
    {
     "data": {
      "image/png": "[encoded data removed]",
      "text/plain": [
       "<Figure size 720x432 with 1 Axes>"
      ]
     },
     "metadata": {},
     "output_type": "display_data"
    }
   ],
   "source": [
    "plt.figure(figsize = (10,6))\n",
    "plt.plot(history.history['loss'] , label = 'Loss')\n",
    "plt.plot(history.history['val_loss'], label = 'Validation Loss')\n",
    "plt.title('Loss vs Validation Loss')\n",
    "plt.legend()"
   ]
  },
  {
   "cell_type": "markdown",
   "metadata": {},
   "source": [
    "## Prediction"
   ]
  },
  {
   "cell_type": "code",
   "execution_count": 154,
   "metadata": {},
   "outputs": [],
   "source": [
    "y_pred = model.predict(X_test)"
   ]
  },
  {
   "cell_type": "code",
   "execution_count": 155,
   "metadata": {},
   "outputs": [],
   "source": [
    "submission = pd.DataFrame(columns = ['ImageId', 'Label'], data = { 'ImageId' : list(range(1,28001)) ,  'Label' : np.argmax(y_pred,axis=1)})"
   ]
  },
  {
   "cell_type": "code",
   "execution_count": 146,
   "metadata": {},
   "outputs": [],
   "source": [
    "submission.to_csv('Submission.csv', index=False)"
   ]
  },
  {
   "cell_type": "code",
   "execution_count": null,
   "metadata": {},
   "outputs": [],
   "source": []
  }
 ],
 "metadata": {
  "kernelspec": {
   "display_name": "Python 3",
   "language": "python",
   "name": "python3"
  },
  "language_info": {
   "codemirror_mode": {
    "name": "ipython",
    "version": 3
   },
   "file_extension": ".py",
   "mimetype": "text/x-python",
   "name": "python",
   "nbconvert_exporter": "python",
   "pygments_lexer": "ipython3",
   "version": "3.7.6"
  }
 },
 "nbformat": 4,
 "nbformat_minor": 4
}
